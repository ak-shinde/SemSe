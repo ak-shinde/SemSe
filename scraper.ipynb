{
 "cells": [
  {
   "cell_type": "code",
   "execution_count": 1,
   "id": "d0510d47",
   "metadata": {},
   "outputs": [],
   "source": [
    "import requests\n",
    "\n",
    "response = requests.get(\"https://studenthealth.usc.edu/\")\n",
    "# print(response.text)"
   ]
  },
  {
   "cell_type": "code",
   "execution_count": 2,
   "id": "cea1815c",
   "metadata": {},
   "outputs": [],
   "source": [
    "from bs4 import BeautifulSoup\n",
    "soup = BeautifulSoup(response.text, 'html.parser')\n",
    "# print(soup.title)"
   ]
  },
  {
   "cell_type": "code",
   "execution_count": 3,
   "id": "0c92a491",
   "metadata": {},
   "outputs": [],
   "source": [
    "# text = soup.find_all(text=True)\n",
    "# text"
   ]
  },
  {
   "cell_type": "code",
   "execution_count": 4,
   "id": "175bbe3b",
   "metadata": {},
   "outputs": [],
   "source": [
    "tag = soup.body\n",
    "# for string in tag.strings:\n",
    "#     print(string)"
   ]
  },
  {
   "cell_type": "code",
   "execution_count": 5,
   "id": "bdaf5d64",
   "metadata": {},
   "outputs": [],
   "source": [
    "from urllib.parse import urlparse, urljoin\n",
    "def is_valid(url):\n",
    "    parsed = urlparse(url)\n",
    "    return bool(parsed.netloc) and bool(parsed.scheme) and '.pdf' not in url"
   ]
  },
  {
   "cell_type": "code",
   "execution_count": 6,
   "id": "21e098f3",
   "metadata": {},
   "outputs": [
    {
     "name": "stdout",
     "output_type": "stream",
     "text": [
      "https://www.usc.edu\n",
      "https://studenthealth.usc.edu/\n",
      "https://studenthealth.usc.edu/getting-started/\n",
      "https://studenthealth.usc.edu/health-requirements-for-new-students/\n",
      "https://studenthealth.usc.edu/getting-started/introductory-videos/\n",
      "https://studenthealth.usc.edu/myshr/\n",
      "https://studenthealth.usc.edu/getting-started/us-based/\n",
      "https://studenthealth.usc.edu/getting-started/international/\n",
      "https://studenthealth.usc.edu/health-professions/\n",
      "https://studenthealth.usc.edu/getting-started/parents/\n",
      "https://studenthealth.usc.edu/our-services/\n",
      "https://studenthealth.usc.edu/medical-care/\n",
      "https://studenthealth.usc.edu/medical-care/patient-education/\n",
      "https://studenthealth.usc.edu/counseling/\n",
      "https://studenthealth.usc.edu/workshops-and-programs/\n",
      "https://studenthealth.usc.edu/counseling/group-counseling/\n",
      "https://sites.google.com/usc.edu/bipocmentalhealth\n",
      "https://studenthealth.usc.edu/counseling/community-centered-services-embedded-counselors-and-liaisons/\n",
      "https://studenthealth.usc.edu/sexual-assault/\n",
      "https://studenthealth.usc.edu/transgender-care/\n",
      "https://studenthealth.usc.edu/athletic-medicine/\n",
      "https://studenthealth.usc.edu/fees-and-insurance/\n",
      "https://studenthealth.usc.edu/health-care-and-health-insurance/bringing-an-existing-insurance-plan-to-campus-2/\n",
      "https://studenthealth.usc.edu/our-services/insurance-plan/how-to-request-a-waiver-for-usc-student-health-insurance/\n",
      "https://studenthealth.usc.edu/health-care-and-health-insurance/glossary-of-terms/\n",
      "https://studenthealth.usc.edu/optional-student-dental-plan/\n",
      "https://studenthealth.usc.edu/studying-abroad/\n",
      "https://studenthealth.usc.edu/studying-abroad/for-students/\n",
      "https://studenthealth.usc.edu/studying-abroad/for-program-coordinators/\n",
      "https://studenthealth.usc.edu/health-care-and-health-insurance/student-health-insurance-office-contact/\n",
      "https://studenthealth.usc.edu/counseling/workshop-requests/\n",
      "https://eshc-pncw.usc.edu/\n",
      "https://studenthealth.usc.edu/emergencies/\n",
      "https://studenthealth.usc.edu/patient-feedback/\n",
      "https://studenthealth.usc.edu/covid-19-testing/\n",
      "https://studenthealth.usc.edu/covid-19-health-services/covid19-vaccines/\n",
      "https://studenthealth.usc.edu/vaccine-clinic/\n",
      "https://studenthealth.usc.edu/list-of-accepted-vaccines/\n",
      "https://studenthealth.usc.edu/ca-digital-covid-19-vaccine-record/\n",
      "https://coronavirus.usc.edu/faq-covid-19-vaccine-policy/\n",
      "https://studenthealth.usc.edu/pop-testing-hours-and-locations/\n",
      "https://studenthealth.usc.edu/covid-19-testing-pcr-and-antigen/\n",
      "https://studenthealth.usc.edu/myshr-troubleshooting/\n",
      "https://studenthealth.usc.edu/covid-19-testing/post-covid-19-recovery/\n",
      "https://studenthealth.usc.edu/instructions-positive-test-results/\n",
      "https://studenthealth.usc.edu/instructions-preparing-for-an-antigen-test/\n",
      "https://studenthealth.usc.edu/instructions-exposure-to-a-positive-individual/\n",
      "https://studenthealth.usc.edu/instructions-spring-recess-testing-using-antigen-kits/\n",
      "https://studenthealth.usc.edu/our-services/insurance-plan/how-to-request-a-waiver-for-usc-student-health-insurance/\n",
      "https://sites.google.com/usc.edu/wellbeingnews/spring-2022-march-mental-health\n",
      "https://eshc-pncw.usc.edu/\n",
      "https://usc.qualtrics.com/jfe/form/SV_dbZ8pP8Y1teFI8J?Q_JFE=qdg&fbclid=IwAR2VvhoQNRc3ZjmoAFRWbI0tjWb-3rsOhjw3uFfYTsSv-YLDxmkKIL1yr8Q\n",
      "https://studenthealth.usc.edu/upc-student-health-center/\n",
      "https://www.google.com/maps/place/Engemann+Student+Health+Center/@34.0252573,-118.2911206,17z/data=!3m1!4b1!4m5!3m4!1s0x80c2c7e4f5472285:0x9dc59bda1ba2f45e!8m2!3d34.0252529!4d-118.2889266\n",
      "https://studenthealth.usc.edu/eric-cohen-student-health-center/\n",
      "https://www.google.com/maps/place/Eric+Cohen+Student+Health+Center/@34.062326,-118.2041805,17z/data=!3m1!4b1!4m5!3m4!1s0x80c2c5decf620951:0xd6acbd692063dfaa!8m2!3d34.0623216!4d-118.2019918\n",
      "https://studenthealth.usc.edu/usc-student-health-part-of-keck-medicine-of-usc-earns-top-score-in-human-rights-campaign-foundations-2022-healthcare-equality-index/\n",
      "https://studenthealth.usc.edu/spring-break-antigen-kits-for-students/\n",
      "https://studenthealth.usc.edu/instructions-spring-recess-testing-using-antigen-kits/\n",
      "https://studenthealth.usc.edu/pop-testing-hours-and-locations/\n",
      "https://studenthealth.usc.edu/instructions-spring-recess-testing-using-antigen-kits/\n",
      "https://studenthealth.usc.edu/covid-19-update-for-campuses-2-18-22/\n",
      "https://coronavirus.usc.edu/2022/02/16/la-county-lifts-outdoor-masking-requirement/\n",
      "http://publichealth.lacounty.gov/media/Coronavirus/reopening-la.htm#orders\n",
      "https://studenthealth.usc.edu/la-county-lifts-outdoor-masking-requirement/\n",
      "https://studenthealth.usc.edu/spring-newsletter-is-here/\n",
      "https://sites.google.com/usc.edu/wellbeingnews/spring-2022\n",
      "https://studenthealth.usc.edu/relief-in-sight-as-covid-19-winter-surge-tapers-at-usc-and-in-l-a-county/\n",
      "https://studenthealth.usc.edu/leadership/\n",
      "https://studenthealth.usc.edu/meet-your-providers/\n",
      "https://studenthealth.usc.edu/mission-values-and-vision/\n",
      "https://sites.google.com/usc.edu/wellbeingnews/media-room\n",
      "https://sites.google.com/usc.edu/wellbeingnews/spring-2022\n",
      "https://studenthealth.usc.edu/patient-privacy-and-confidentiality/\n",
      "https://studenthealth.usc.edu/patient-rights/\n",
      "https://issuu.com/uscedu/stacks/bc6849aea91c4f11a3ffbf373205f19d\n",
      "https://studenthealth.usc.edu/medical-policies/\n",
      "https://studenthealth.usc.edu/fees-deadlines/\n",
      "https://studenthealth.usc.edu/hours/\n",
      "https://studenthealth.usc.edu/for-online-students/\n",
      "https://sites.usc.edu/cmhtraining/\n",
      "https://issuu.com/uscedu/docs/91609_usc_student_health_ar\n",
      "https://sites.google.com/usc.edu/covidnotifications-ay22/home\n",
      "https://itservices.usc.edu/google\n",
      "https://sites.usc.edu/studentwellbeing/\n",
      "https://studenthealth.usc.edu/student-health-advisory-committee/\n",
      "https://studenthealth.usc.edu/health-promotion-staff/\n",
      "https://about.usc.edu/campus-climate-data/\n",
      "https://studenthealth.usc.edu/alcoholedu-for-college/\n",
      "https://employees.usc.edu/cardinal-folder/\n",
      "https://studenthealth.usc.edu/counseling/guide-talking-about-suicide/\n",
      "https://studenthealth.usc.edu/guide-grief-and-loss/\n",
      "https://studenthealth.usc.edu/classroom-resilience-guide/\n",
      "https://usc.qualtrics.com/jfe/form/SV_dbZ8pP8Y1teFI8J?Q_JFE=qdg&fbclid=IwAR2VvhoQNRc3ZjmoAFRWbI0tjWb-3rsOhjw3uFfYTsSv-YLDxmkKIL1yr8Q\n",
      "https://www.instagram.com/beau_usc/\n",
      "https://twitter.com/search?q=studenthealthsc&src=typd&lang=en\n",
      "https://www.facebook.com/studenthealthsc/\n",
      "https://www.hrc.org/resources/hei-2022-lgbtq-healthcare-equality-leaders\n",
      "https://www.usc.edu/privacy-notice\n",
      "https://www.usc.edu/notice-of-non-discrimination/\n"
     ]
    }
   ],
   "source": [
    "urls = set()\n",
    "for link in soup.find_all('a'):\n",
    "    url = link.get('href')\n",
    "    if is_valid(url):\n",
    "        urls.add(url)\n",
    "        print(url)"
   ]
  },
  {
   "cell_type": "code",
   "execution_count": 10,
   "id": "3f7dd6cf",
   "metadata": {},
   "outputs": [],
   "source": [
    "import os\n",
    "\n",
    "if not os.path.isdir('dataset'):\n",
    "    os.mkdir('dataset')"
   ]
  },
  {
   "cell_type": "code",
   "execution_count": 15,
   "id": "343da190",
   "metadata": {},
   "outputs": [],
   "source": [
    "import string\n",
    "\n",
    "for url in urls:\n",
    "    file = open('dataset/' + url.replace('/', '_') + \".txt\", \"w\")\n",
    "    resp = requests.get(url)\n",
    "    url_soup = BeautifulSoup(resp.text, 'html.parser')\n",
    "    tags = url_soup.body\n",
    "    if tags is not None:\n",
    "        for line in tags.strings:\n",
    "            line = line.strip()\n",
    "            line = line.translate(str.maketrans('', '', string.punctuation))\n",
    "            if not line.isspace() and line:\n",
    "                file.write(line + '\\n')"
   ]
  },
  {
   "cell_type": "code",
   "execution_count": 13,
   "id": "82ec9400",
   "metadata": {},
   "outputs": [
    {
     "data": {
      "text/plain": [
       "93"
      ]
     },
     "execution_count": 13,
     "metadata": {},
     "output_type": "execute_result"
    }
   ],
   "source": [
    "len(urls)"
   ]
  },
  {
   "cell_type": "code",
   "execution_count": null,
   "id": "26763e59",
   "metadata": {},
   "outputs": [],
   "source": []
  }
 ],
 "metadata": {
  "kernelspec": {
   "display_name": "Python 3 (ipykernel)",
   "language": "python",
   "name": "python3"
  },
  "language_info": {
   "codemirror_mode": {
    "name": "ipython",
    "version": 3
   },
   "file_extension": ".py",
   "mimetype": "text/x-python",
   "name": "python",
   "nbconvert_exporter": "python",
   "pygments_lexer": "ipython3",
   "version": "3.8.9"
  }
 },
 "nbformat": 4,
 "nbformat_minor": 5
}
