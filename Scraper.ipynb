{
  "nbformat": 4,
  "nbformat_minor": 0,
  "metadata": {
    "colab": {
      "name": "Scraper.ipynb",
      "provenance": [],
      "collapsed_sections": []
    },
    "kernelspec": {
      "name": "python3",
      "display_name": "Python 3"
    },
    "language_info": {
      "name": "python"
    }
  },
  "cells": [
    {
      "cell_type": "code",
      "execution_count": 59,
      "metadata": {
        "id": "4HnbZfkJeA-k"
      },
      "outputs": [],
      "source": [
        "import requests\n",
        "\n",
        "response = requests.get(\"https://studenthealth.usc.edu/\")\n",
        "#print(response.text)"
      ]
    },
    {
      "cell_type": "code",
      "source": [
        "from bs4 import BeautifulSoup\n",
        "soup = BeautifulSoup(response.text, 'html.parser')\n",
        "#print(soup.title)"
      ],
      "metadata": {
        "id": "vLcJqmZ9eSN8"
      },
      "execution_count": 60,
      "outputs": []
    },
    {
      "cell_type": "code",
      "source": [
        "from urllib.parse import urlparse, urljoin\n",
        "def is_valid(url):\n",
        "    parsed = urlparse(url)\n",
        "    return bool(parsed.netloc) and bool(parsed.scheme) and '.pdf' not in url"
      ],
      "metadata": {
        "id": "LdAvceoueWZO"
      },
      "execution_count": 61,
      "outputs": []
    },
    {
      "cell_type": "code",
      "source": [
        "urls = set()\n",
        "for link in soup.find_all('a'):\n",
        "    url = link.get('href')\n",
        "    if is_valid(url):\n",
        "        urls.add(url)\n",
        "        #print(url)"
      ],
      "metadata": {
        "colab": {
          "base_uri": "https://localhost:8080/"
        },
        "id": "k-H51ow1eZbM",
        "outputId": "c12c4825-387d-4f34-b54c-9d46e907b46c"
      },
      "execution_count": 62,
      "outputs": [
        {
          "output_type": "stream",
          "name": "stdout",
          "text": [
            "https://www.usc.edu\n",
            "https://studenthealth.usc.edu/\n",
            "https://studenthealth.usc.edu/getting-started/\n",
            "https://studenthealth.usc.edu/health-requirements-for-new-students/\n",
            "https://studenthealth.usc.edu/getting-started/introductory-videos/\n",
            "https://studenthealth.usc.edu/myshr/\n",
            "https://studenthealth.usc.edu/getting-started/us-based/\n",
            "https://studenthealth.usc.edu/getting-started/international/\n",
            "https://studenthealth.usc.edu/health-professions/\n",
            "https://studenthealth.usc.edu/getting-started/parents/\n",
            "https://studenthealth.usc.edu/our-services/\n",
            "https://studenthealth.usc.edu/medical-care/\n",
            "https://studenthealth.usc.edu/medical-care/patient-education/\n",
            "https://studenthealth.usc.edu/counseling/\n",
            "https://studenthealth.usc.edu/workshops-and-programs/\n",
            "https://studenthealth.usc.edu/counseling/group-counseling/\n",
            "https://sites.google.com/usc.edu/bipocmentalhealth\n",
            "https://studenthealth.usc.edu/counseling/community-centered-services-embedded-counselors-and-liaisons/\n",
            "https://studenthealth.usc.edu/sexual-assault/\n",
            "https://studenthealth.usc.edu/transgender-care/\n",
            "https://studenthealth.usc.edu/athletic-medicine/\n",
            "https://studenthealth.usc.edu/fees-and-insurance/\n",
            "https://studenthealth.usc.edu/health-care-and-health-insurance/bringing-an-existing-insurance-plan-to-campus-2/\n",
            "https://studenthealth.usc.edu/our-services/insurance-plan/how-to-request-a-waiver-for-usc-student-health-insurance/\n",
            "https://studenthealth.usc.edu/health-care-and-health-insurance/glossary-of-terms/\n",
            "https://studenthealth.usc.edu/optional-student-dental-plan/\n",
            "https://studenthealth.usc.edu/studying-abroad/\n",
            "https://studenthealth.usc.edu/studying-abroad/for-students/\n",
            "https://studenthealth.usc.edu/studying-abroad/for-program-coordinators/\n",
            "https://studenthealth.usc.edu/health-care-and-health-insurance/student-health-insurance-office-contact/\n",
            "https://studenthealth.usc.edu/counseling/workshop-requests/\n",
            "https://eshc-pncw.usc.edu/\n",
            "https://studenthealth.usc.edu/emergencies/\n",
            "https://studenthealth.usc.edu/patient-feedback/\n",
            "https://studenthealth.usc.edu/covid-19-testing/\n",
            "https://studenthealth.usc.edu/covid-19-health-services/covid19-vaccines/\n",
            "https://studenthealth.usc.edu/vaccine-clinic/\n",
            "https://studenthealth.usc.edu/list-of-accepted-vaccines/\n",
            "https://studenthealth.usc.edu/ca-digital-covid-19-vaccine-record/\n",
            "https://coronavirus.usc.edu/faq-covid-19-vaccine-policy/\n",
            "https://studenthealth.usc.edu/pop-testing-hours-and-locations/\n",
            "https://studenthealth.usc.edu/covid-19-testing-pcr-and-antigen/\n",
            "https://studenthealth.usc.edu/myshr-troubleshooting/\n",
            "https://studenthealth.usc.edu/covid-19-testing/post-covid-19-recovery/\n",
            "https://studenthealth.usc.edu/instructions-positive-test-results/\n",
            "https://studenthealth.usc.edu/instructions-preparing-for-an-antigen-test/\n",
            "https://studenthealth.usc.edu/instructions-exposure-to-a-positive-individual/\n",
            "https://studenthealth.usc.edu/instructions-spring-recess-testing-using-antigen-kits/\n",
            "https://studenthealth.usc.edu/our-services/insurance-plan/how-to-request-a-waiver-for-usc-student-health-insurance/\n",
            "https://sites.google.com/usc.edu/wellbeingnews/spring-2022-march-mental-health\n",
            "https://eshc-pncw.usc.edu/\n",
            "https://usc.qualtrics.com/jfe/form/SV_dbZ8pP8Y1teFI8J?Q_JFE=qdg&fbclid=IwAR2VvhoQNRc3ZjmoAFRWbI0tjWb-3rsOhjw3uFfYTsSv-YLDxmkKIL1yr8Q\n",
            "https://studenthealth.usc.edu/upc-student-health-center/\n",
            "https://www.google.com/maps/place/Engemann+Student+Health+Center/@34.0252573,-118.2911206,17z/data=!3m1!4b1!4m5!3m4!1s0x80c2c7e4f5472285:0x9dc59bda1ba2f45e!8m2!3d34.0252529!4d-118.2889266\n",
            "https://studenthealth.usc.edu/eric-cohen-student-health-center/\n",
            "https://www.google.com/maps/place/Eric+Cohen+Student+Health+Center/@34.062326,-118.2041805,17z/data=!3m1!4b1!4m5!3m4!1s0x80c2c5decf620951:0xd6acbd692063dfaa!8m2!3d34.0623216!4d-118.2019918\n",
            "https://studenthealth.usc.edu/usc-student-health-part-of-keck-medicine-of-usc-earns-top-score-in-human-rights-campaign-foundations-2022-healthcare-equality-index/\n",
            "https://studenthealth.usc.edu/spring-break-antigen-kits-for-students/\n",
            "https://studenthealth.usc.edu/instructions-spring-recess-testing-using-antigen-kits/\n",
            "https://studenthealth.usc.edu/pop-testing-hours-and-locations/\n",
            "https://studenthealth.usc.edu/instructions-spring-recess-testing-using-antigen-kits/\n",
            "https://studenthealth.usc.edu/covid-19-update-for-campuses-2-18-22/\n",
            "https://coronavirus.usc.edu/2022/02/16/la-county-lifts-outdoor-masking-requirement/\n",
            "http://publichealth.lacounty.gov/media/Coronavirus/reopening-la.htm#orders\n",
            "https://studenthealth.usc.edu/la-county-lifts-outdoor-masking-requirement/\n",
            "http://publichealth.lacounty.gov/media/Coronavirus/docs/HOO/HOO_SaferReturnWorkCommunity.pdf?utm_content=&utm_medium=email&utm_name=&utm_source=govdelivery&utm_term=\n",
            "https://studenthealth.usc.edu/spring-newsletter-is-here/\n",
            "https://sites.google.com/usc.edu/wellbeingnews/spring-2022\n",
            "https://studenthealth.usc.edu/relief-in-sight-as-covid-19-winter-surge-tapers-at-usc-and-in-l-a-county/\n",
            "https://studenthealth.usc.edu/leadership/\n",
            "https://studenthealth.usc.edu/meet-your-providers/\n",
            "https://studenthealth.usc.edu/mission-values-and-vision/\n",
            "https://sites.google.com/usc.edu/wellbeingnews/media-room\n",
            "https://sites.google.com/usc.edu/wellbeingnews/spring-2022\n",
            "https://studenthealth.usc.edu/patient-privacy-and-confidentiality/\n",
            "https://studenthealth.usc.edu/patient-rights/\n",
            "https://issuu.com/uscedu/stacks/bc6849aea91c4f11a3ffbf373205f19d\n",
            "https://studenthealth.usc.edu/medical-policies/\n",
            "https://studenthealth.usc.edu/fees-deadlines/\n",
            "https://studenthealth.usc.edu/hours/\n",
            "https://studenthealth.usc.edu/for-online-students/\n",
            "https://sites.usc.edu/cmhtraining/\n",
            "https://issuu.com/uscedu/docs/91609_usc_student_health_ar\n",
            "https://sites.google.com/usc.edu/covidnotifications-ay22/home\n",
            "https://itservices.usc.edu/google\n",
            "https://sites.usc.edu/studentwellbeing/\n",
            "https://studenthealth.usc.edu/student-health-advisory-committee/\n",
            "https://studenthealth.usc.edu/health-promotion-staff/\n",
            "https://about.usc.edu/campus-climate-data/\n",
            "https://studenthealth.usc.edu/alcoholedu-for-college/\n",
            "https://employees.usc.edu/cardinal-folder/\n",
            "https://studenthealth.usc.edu/counseling/guide-talking-about-suicide/\n",
            "https://studenthealth.usc.edu/guide-grief-and-loss/\n",
            "https://studenthealth.usc.edu/classroom-resilience-guide/\n",
            "https://usc.qualtrics.com/jfe/form/SV_dbZ8pP8Y1teFI8J?Q_JFE=qdg&fbclid=IwAR2VvhoQNRc3ZjmoAFRWbI0tjWb-3rsOhjw3uFfYTsSv-YLDxmkKIL1yr8Q\n",
            "https://www.instagram.com/beau_usc/\n",
            "https://twitter.com/search?q=studenthealthsc&src=typd&lang=en\n",
            "https://www.facebook.com/studenthealthsc/\n",
            "https://www.hrc.org/resources/hei-2022-lgbtq-healthcare-equality-leaders\n",
            "https://www.usc.edu/privacy-notice\n",
            "https://www.usc.edu/notice-of-non-discrimination/\n"
          ]
        }
      ]
    },
    {
      "cell_type": "code",
      "source": [
        "len(urls)"
      ],
      "metadata": {
        "colab": {
          "base_uri": "https://localhost:8080/"
        },
        "id": "3kcJktutZZ1s",
        "outputId": "b417a06f-d532-4413-ec56-eb7428e537f7"
      },
      "execution_count": 64,
      "outputs": [
        {
          "output_type": "execute_result",
          "data": {
            "text/plain": [
              "94"
            ]
          },
          "metadata": {},
          "execution_count": 64
        }
      ]
    },
    {
      "cell_type": "code",
      "source": [
        "import string\n",
        "for url in urls:\n",
        "    temp=url.replace(\"/\",\"_\")\n",
        "    #print(temp)\n",
        "    file = open(temp, \"w+\")\n",
        "    resp = requests.get(url)\n",
        "    url_soup = BeautifulSoup(resp.text, 'html.parser')\n",
        "    tags = url_soup.body\n",
        "    for div in url_soup.findAll('div', {'class': 'content-area'}):\n",
        "      #file.write(div.text.strip())\n",
        "      for line in div.strings:\n",
        "        line = line.strip()\n",
        "        line = line.translate(str.maketrans('', '', string.punctuation))\n",
        "        if not line.isspace() and line:\n",
        "            file.write(line + '\\n')\n"
      ],
      "metadata": {
        "id": "Dw_yTk9mecyB"
      },
      "execution_count": 63,
      "outputs": []
    },
    {
      "cell_type": "code",
      "source": [
        ""
      ],
      "metadata": {
        "id": "_AsALD_ObLJT"
      },
      "execution_count": null,
      "outputs": []
    }
  ]
}