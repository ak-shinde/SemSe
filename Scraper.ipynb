{
 "cells": [
  {
   "cell_type": "code",
   "execution_count": 1,
   "id": "d0510d47",
   "metadata": {},
   "outputs": [],
   "source": [
    "import requests\n",
    "response = requests.get(\"https://studenthealth.usc.edu/\")"
   ]
  },
  {
   "cell_type": "code",
   "execution_count": 2,
   "id": "cea1815c",
   "metadata": {},
   "outputs": [],
   "source": [
    "from bs4 import BeautifulSoup\n",
    "soup = BeautifulSoup(response.text, 'html.parser')"
   ]
  },
  {
   "cell_type": "code",
   "execution_count": 6,
   "id": "0c92a491",
   "metadata": {},
   "outputs": [],
   "source": [
    "from urllib.parse import urlparse, urljoin\n",
    "def is_valid(url):\n",
    "    parsed = urlparse(url)\n",
    "    return bool(parsed.netloc) and bool(parsed.scheme) and '.pdf' not in url"
   ]
  },
  {
   "cell_type": "code",
   "execution_count": 18,
   "id": "26763e59",
   "metadata": {},
   "outputs": [],
   "source": [
    "urls = set()\n",
    "whitelist = ['coronavirus.usc', 'about.usc.edu', 'sites.google.com/usc.edu', 'studenthealth.usc.edu']\n",
    "\n",
    "for link in soup.find_all('a'):\n",
    "    url = link.get('href')\n",
    "    if is_valid(url):\n",
    "            urls.add(url)\n",
    "\n",
    "urls = [s for s in urls if any(xs in s for xs in whitelist)]"
   ]
  },
  {
   "cell_type": "code",
   "execution_count": 19,
   "id": "c342f4b2",
   "metadata": {},
   "outputs": [
    {
     "data": {
      "text/plain": [
       "74"
      ]
     },
     "execution_count": 19,
     "metadata": {},
     "output_type": "execute_result"
    }
   ],
   "source": [
    "len(urls)"
   ]
  },
  {
   "cell_type": "code",
   "execution_count": 20,
   "id": "6f7329d7",
   "metadata": {},
   "outputs": [
    {
     "data": {
      "text/plain": [
       "['https://studenthealth.usc.edu/getting-started/international/',\n",
       " 'https://studenthealth.usc.edu/hours/',\n",
       " 'https://studenthealth.usc.edu/covid-19-testing/post-covid-19-recovery/',\n",
       " 'https://studenthealth.usc.edu/sexual-assault/',\n",
       " 'https://studenthealth.usc.edu/workshops-and-programs/',\n",
       " 'https://studenthealth.usc.edu/black-men-will-summit-creates-community-support/',\n",
       " 'https://studenthealth.usc.edu/health-care-and-health-insurance/student-health-insurance-office-contact/',\n",
       " 'https://studenthealth.usc.edu/studying-abroad/for-students/',\n",
       " 'https://sites.google.com/usc.edu/bipocmentalhealth',\n",
       " 'https://sites.google.com/usc.edu/wellbeingnews/spring-2022-march-mental-health',\n",
       " 'https://studenthealth.usc.edu/emergencies/',\n",
       " 'https://studenthealth.usc.edu/counseling/',\n",
       " 'https://studenthealth.usc.edu/health-care-and-health-insurance/bringing-an-existing-insurance-plan-to-campus-2/',\n",
       " 'https://studenthealth.usc.edu/getting-started/introductory-videos/',\n",
       " 'https://studenthealth.usc.edu/health-care-and-health-insurance/glossary-of-terms/',\n",
       " 'https://about.usc.edu/campus-climate-data/',\n",
       " 'https://studenthealth.usc.edu/health-professions/',\n",
       " 'https://studenthealth.usc.edu/instructions-positive-test-results/',\n",
       " 'https://studenthealth.usc.edu/patient-feedback/',\n",
       " 'https://studenthealth.usc.edu/counseling/guide-talking-about-suicide/',\n",
       " 'https://studenthealth.usc.edu/covid-19-testing/',\n",
       " 'https://studenthealth.usc.edu/athletic-medicine/',\n",
       " 'https://studenthealth.usc.edu/upc-student-health-center/',\n",
       " 'https://studenthealth.usc.edu/for-online-students/',\n",
       " 'https://studenthealth.usc.edu/myshr/',\n",
       " 'https://coronavirus.usc.edu/faq-covid-19-vaccine-policy/',\n",
       " 'https://studenthealth.usc.edu/patient-rights/',\n",
       " 'https://studenthealth.usc.edu/instructions-spring-recess-testing-using-antigen-kits/',\n",
       " 'https://studenthealth.usc.edu/counseling/workshop-requests/',\n",
       " 'https://studenthealth.usc.edu/myshr-troubleshooting/',\n",
       " 'https://studenthealth.usc.edu/gender-affirming-care-a-physicians-perspective/',\n",
       " 'https://studenthealth.usc.edu/patient-privacy-and-confidentiality/',\n",
       " 'https://studenthealth.usc.edu/medical-care/patient-education/',\n",
       " 'https://sites.google.com/usc.edu/covidnotifications-ay22/home',\n",
       " 'https://studenthealth.usc.edu/eric-cohen-student-health-center/',\n",
       " 'https://sites.google.com/usc.edu/wellbeingnews/spring-2022',\n",
       " 'https://studenthealth.usc.edu/usc-student-health-part-of-keck-medicine-of-usc-earns-top-score-in-human-rights-campaign-foundations-2022-healthcare-equality-index/',\n",
       " 'https://studenthealth.usc.edu/sexual-citizens-discussion-during-sexual-assault-awareness-month/',\n",
       " 'https://studenthealth.usc.edu/alcoholedu-for-college/',\n",
       " 'https://studenthealth.usc.edu/our-services/insurance-plan/how-to-request-a-waiver-for-usc-student-health-insurance/',\n",
       " 'https://studenthealth.usc.edu/our-services/',\n",
       " 'https://studenthealth.usc.edu/health-promotion-staff/',\n",
       " 'https://studenthealth.usc.edu/list-of-accepted-vaccines/',\n",
       " 'https://studenthealth.usc.edu/guide-grief-and-loss/',\n",
       " 'https://studenthealth.usc.edu/studying-abroad/',\n",
       " 'https://studenthealth.usc.edu/counseling/community-centered-services-embedded-counselors-and-liaisons/',\n",
       " 'https://studenthealth.usc.edu/meet-your-providers/',\n",
       " 'https://studenthealth.usc.edu/getting-started/us-based/',\n",
       " 'https://studenthealth.usc.edu/pop-testing-hours-and-locations/',\n",
       " 'https://studenthealth.usc.edu/',\n",
       " 'https://studenthealth.usc.edu/health-requirements-for-new-students/',\n",
       " 'https://studenthealth.usc.edu/spring-break-antigen-kits-for-students/',\n",
       " 'https://studenthealth.usc.edu/instructions-exposure-to-a-positive-individual/',\n",
       " 'https://studenthealth.usc.edu/medical-policies/',\n",
       " 'https://studenthealth.usc.edu/fees-and-insurance/',\n",
       " 'https://sites.google.com/usc.edu/wellbeingnews/media-room',\n",
       " 'https://studenthealth.usc.edu/covid-19-testing-pcr-and-antigen/',\n",
       " 'https://studenthealth.usc.edu/ca-digital-covid-19-vaccine-record/',\n",
       " 'https://studenthealth.usc.edu/optional-student-dental-plan/',\n",
       " 'https://studenthealth.usc.edu/studying-abroad/for-program-coordinators/',\n",
       " 'https://studenthealth.usc.edu/vaccine-clinic/',\n",
       " 'https://studenthealth.usc.edu/transgender-care/',\n",
       " 'https://studenthealth.usc.edu/mission-values-and-vision/',\n",
       " 'https://studenthealth.usc.edu/classroom-resilience-guide/',\n",
       " 'https://studenthealth.usc.edu/getting-started/',\n",
       " 'https://studenthealth.usc.edu/fees-deadlines/',\n",
       " 'https://studenthealth.usc.edu/covid-19-health-services/covid19-vaccines/',\n",
       " 'https://studenthealth.usc.edu/instructions-preparing-for-an-antigen-test/',\n",
       " 'https://studenthealth.usc.edu/leadership/',\n",
       " 'https://studenthealth.usc.edu/student-health-advisory-committee/',\n",
       " 'https://studenthealth.usc.edu/counseling/group-counseling/',\n",
       " 'https://studenthealth.usc.edu/medical-care/',\n",
       " 'https://studenthealth.usc.edu/getting-started/parents/',\n",
       " 'https://studenthealth.usc.edu/trojan-check-no-longer-required-as-of-4-4-22/']"
      ]
     },
     "execution_count": 20,
     "metadata": {},
     "output_type": "execute_result"
    }
   ],
   "source": [
    "urls"
   ]
  },
  {
   "cell_type": "code",
   "execution_count": 21,
   "id": "92e4973a",
   "metadata": {},
   "outputs": [],
   "source": [
    "import string\n",
    "for url in urls:\n",
    "    resp = requests.get(url)\n",
    "    url_soup = BeautifulSoup(resp.text, 'html.parser')\n",
    "    text = ''\n",
    "    for div in url_soup.findAll('div', {'class': 'content-area'}):\n",
    "        for line in div.strings:\n",
    "            line = line.strip()\n",
    "            line = line.translate(str.maketrans('', '', string.punctuation))\n",
    "            if not line.isspace() and line:\n",
    "                text += line + '\\n'\n",
    "    if text:\n",
    "        file_name = url.replace('/','_')\n",
    "        file = open(file_name, 'w+')\n",
    "        file.write(text)\n",
    "        file.close()"
   ]
  },
  {
   "cell_type": "code",
   "execution_count": null,
   "id": "64208faf",
   "metadata": {},
   "outputs": [],
   "source": []
  }
 ],
 "metadata": {
  "kernelspec": {
   "display_name": "Python 3 (ipykernel)",
   "language": "python",
   "name": "python3"
  },
  "language_info": {
   "codemirror_mode": {
    "name": "ipython",
    "version": 3
   },
   "file_extension": ".py",
   "mimetype": "text/x-python",
   "name": "python",
   "nbconvert_exporter": "python",
   "pygments_lexer": "ipython3",
   "version": "3.8.9"
  }
 },
 "nbformat": 4,
 "nbformat_minor": 5
}
